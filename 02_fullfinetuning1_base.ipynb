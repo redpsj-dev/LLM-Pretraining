{
 "cells": [
  {
   "cell_type": "markdown",
   "metadata": {},
   "source": [
    "___\n",
    "<a href='https://honglab.ai'><p style=\"text-align:center;\"><img src='https://lh3.googleusercontent.com/lY3ySXooSmwsq5r-mRi7uiypbo0Vez6pmNoQxMFhl9fmZJkRHu5lO2vo7se_0YOzgmDyJif9fi4_z0o3ZFdwd8NVSWG6Ea80uWaf3pOHpR4GHGDV7kaFeuHR3yAjIJjDgfXMxsvw=w2400'  class=\"center\" width=\"50%\" height=\"50%\"/></p></a>\n",
    "___\n",
    "<center><em>Content Copyright by HongLab, Inc.</em></center>"
   ]
  },
  {
   "cell_type": "markdown",
   "metadata": {},
   "source": [
    "## 구독 해주셔서 감사합니다!\n",
    "혹시 영상 업로드 후에 수정해야할 오류가 발견되면 강의노트에 적어두겠습니다.\n",
    "\n",
    "#### 참고 자료\n",
    "- [Build a Large Language Model (From Scratch)](https://www.manning.com/books/build-a-large-language-model-from-scratch) Chapter 7\n",
    "- [Kanana: Compute-efficient Bilingual Language Models](https://arxiv.org/abs/2502.18934)"
   ]
  },
  {
   "cell_type": "markdown",
   "metadata": {},
   "source": [
    "#### 전체 미세조정(Full Fine-Tuning)\n",
    "\n",
    "미세조정의 필요성\n",
    "- LLM은 AI 에이전트의 품질을 결정짓는 핵심 요소\n",
    "- 뭐든 그럴듯하게 대답해줄 수 있는 큰거 하나 (클라우드) vs 나의 목적에 특화된 작은거 여러 개 (로컬)\n",
    "- \"한국어\" 잘하는 모델들이 공개되기 시작 (엑사원, 카나나 등) **감사합니다!**\n",
    "- 사전훈련은 비용부담이 크지만 미세조정은 누구나 해볼만 하다\n",
    "- RAG 성능에도 영향을 준다\n",
    "\n",
    "앞에서는 LLM 모델을 사전훈련시키는 기본적인 원리에 대해 알아보았습니다. 사전훈련은 모델이 기본적인 언어 능력을 갖추도록 학습시키는 것으로 볼 수 있습니다. 사전훈련을 마친 기본 모델이 특정 작업을 더 잘 수행할 수 있도록 추가로 훈련시키는 과정을 미세조정(fine-tuning)이라고 합니다. \n",
    "\n",
    "LLM을 훈련시킬 때는 GPU 사용료가 큰 부담이 된다는 것은 널리 알려진 사실입니다. 다행스럽게도 미세조정을 잘 활용하면 훨씬 적은 비용으로 나의 특정 용도에 최적화된 모델을 만들 수 있습니다. 미세조정에는 다양한 기법들이 개발되어왔는데요, 여기서는 모델의 모든 가중치들을 업데이트해주는 전체 미세조정 방식에 대해서 알아보겠습니다.\n",
    "\n",
    "[안내]\n",
    "- 본 내용은 쉬운 이해를 돕기 위해 최소한의 예제를 바탕으로 작성되었습니다. 실제 적용 범위에 대한 오해가 없으시길 바랍니다."
   ]
  },
  {
   "cell_type": "markdown",
   "metadata": {},
   "source": [
    "#### 모델 준비\n",
    "## 모델별로 파인튜닝 학습 데이터 포멧이 다르다.\n",
    "여기에서는 [카카오 나노 2.1b 베이스 모델](https://huggingface.co/kakaocorp/kanana-nano-2.1b-base)을 사용하겠습니다. \n",
    "\n",
    "https://huggingface.co/heegyu/kogpt-j-350m\n",
    "https://huggingface.co/skt/kogpt2-base-v2\n",
    "\n",
    "코랩T4에서 하시는분들은 Adamw가 cuda oom을 터트립니다.\n",
    "\n",
    "import torch\n",
    "\n",
    "device = torch.device(\"cuda\" if torch.cuda.is_available() else \"cpu\")\n",
    "print(device)\n",
    "#device = \"cpu\"\n",
    "torch.manual_seed(123)\n",
    "model.to(device)\n",
    "optimizer = torch.optim.SGD(model.parameters(), lr=0.00001, weight_decay=0.01)"
   ]
  },
  {
   "cell_type": "code",
   "execution_count": 21,
   "metadata": {},
   "outputs": [
    {
     "name": "stdout",
     "output_type": "stream",
     "text": [
      "MPS 장치를 사용합니다.\n"
     ]
    },
    {
     "data": {
      "application/vnd.jupyter.widget-view+json": {
       "model_id": "1450a6958380461d95da8f44d9cd835c",
       "version_major": 2,
       "version_minor": 0
      },
      "text/plain": [
       "config.json:   0%|          | 0.00/885 [00:00<?, ?B/s]"
      ]
     },
     "metadata": {},
     "output_type": "display_data"
    },
    {
     "data": {
      "application/vnd.jupyter.widget-view+json": {
       "model_id": "6d6594f8e25b4ccb96632cb7f3ab9ac9",
       "version_major": 2,
       "version_minor": 0
      },
      "text/plain": [
       "pytorch_model.bin:   0%|          | 0.00/1.45G [00:00<?, ?B/s]"
      ]
     },
     "metadata": {},
     "output_type": "display_data"
    },
    {
     "name": "stderr",
     "output_type": "stream",
     "text": [
      "Some weights of the model checkpoint at heegyu/kogpt-j-350m were not used when initializing GPTJForCausalLM: ['transformer.h.0.attn.bias', 'transformer.h.0.attn.masked_bias', 'transformer.h.1.attn.bias', 'transformer.h.1.attn.masked_bias', 'transformer.h.10.attn.bias', 'transformer.h.10.attn.masked_bias', 'transformer.h.11.attn.bias', 'transformer.h.11.attn.masked_bias', 'transformer.h.12.attn.bias', 'transformer.h.12.attn.masked_bias', 'transformer.h.13.attn.bias', 'transformer.h.13.attn.masked_bias', 'transformer.h.14.attn.bias', 'transformer.h.14.attn.masked_bias', 'transformer.h.15.attn.bias', 'transformer.h.15.attn.masked_bias', 'transformer.h.16.attn.bias', 'transformer.h.16.attn.masked_bias', 'transformer.h.17.attn.bias', 'transformer.h.17.attn.masked_bias', 'transformer.h.18.attn.bias', 'transformer.h.18.attn.masked_bias', 'transformer.h.19.attn.bias', 'transformer.h.19.attn.masked_bias', 'transformer.h.2.attn.bias', 'transformer.h.2.attn.masked_bias', 'transformer.h.3.attn.bias', 'transformer.h.3.attn.masked_bias', 'transformer.h.4.attn.bias', 'transformer.h.4.attn.masked_bias', 'transformer.h.5.attn.bias', 'transformer.h.5.attn.masked_bias', 'transformer.h.6.attn.bias', 'transformer.h.6.attn.masked_bias', 'transformer.h.7.attn.bias', 'transformer.h.7.attn.masked_bias', 'transformer.h.8.attn.bias', 'transformer.h.8.attn.masked_bias', 'transformer.h.9.attn.bias', 'transformer.h.9.attn.masked_bias']\n",
      "- This IS expected if you are initializing GPTJForCausalLM from the checkpoint of a model trained on another task or with another architecture (e.g. initializing a BertForSequenceClassification model from a BertForPreTraining model).\n",
      "- This IS NOT expected if you are initializing GPTJForCausalLM from the checkpoint of a model that you expect to be exactly identical (initializing a BertForSequenceClassification model from a BertForSequenceClassification model).\n"
     ]
    },
    {
     "data": {
      "application/vnd.jupyter.widget-view+json": {
       "model_id": "e8339e7fb6114a4fad00204059217a1b",
       "version_major": 2,
       "version_minor": 0
      },
      "text/plain": [
       "model.safetensors:   0%|          | 0.00/1.45G [00:00<?, ?B/s]"
      ]
     },
     "metadata": {},
     "output_type": "display_data"
    },
    {
     "data": {
      "application/vnd.jupyter.widget-view+json": {
       "model_id": "43b22f7dc4284cd6951418e9a0ca9b02",
       "version_major": 2,
       "version_minor": 0
      },
      "text/plain": [
       "tokenizer_config.json:   0%|          | 0.00/790 [00:00<?, ?B/s]"
      ]
     },
     "metadata": {},
     "output_type": "display_data"
    },
    {
     "data": {
      "application/vnd.jupyter.widget-view+json": {
       "model_id": "eba7cb36c13d400b9d58134e77ae2023",
       "version_major": 2,
       "version_minor": 0
      },
      "text/plain": [
       "vocab.json:   0%|          | 0.00/1.27M [00:00<?, ?B/s]"
      ]
     },
     "metadata": {},
     "output_type": "display_data"
    },
    {
     "data": {
      "application/vnd.jupyter.widget-view+json": {
       "model_id": "fc60edf5b30146428af43908a130f4a8",
       "version_major": 2,
       "version_minor": 0
      },
      "text/plain": [
       "merges.txt:   0%|          | 0.00/925k [00:00<?, ?B/s]"
      ]
     },
     "metadata": {},
     "output_type": "display_data"
    },
    {
     "data": {
      "application/vnd.jupyter.widget-view+json": {
       "model_id": "b835cb92da9c413ca0ce05947f7dbdbe",
       "version_major": 2,
       "version_minor": 0
      },
      "text/plain": [
       "tokenizer.json:   0%|          | 0.00/3.07M [00:00<?, ?B/s]"
      ]
     },
     "metadata": {},
     "output_type": "display_data"
    },
    {
     "data": {
      "application/vnd.jupyter.widget-view+json": {
       "model_id": "cd2443c157de46a39e3183e9bed0c7a3",
       "version_major": 2,
       "version_minor": 0
      },
      "text/plain": [
       "special_tokens_map.json:   0%|          | 0.00/96.0 [00:00<?, ?B/s]"
      ]
     },
     "metadata": {},
     "output_type": "display_data"
    }
   ],
   "source": [
    "import torch\n",
    "from transformers import AutoModelForCausalLM, AutoTokenizer\n",
    "#2.1B\n",
    "#model_name = \"kakaocorp/kanana-nano-2.1b-base\"\n",
    "#125M\n",
    "#model_name = \"skt/kogpt2-base-v2\"\n",
    "#350M\n",
    "model_name = \"heegyu/kogpt-j-350m\"\n",
    "\n",
    "# MPS 사용 가능 여부 확인\n",
    "if torch.backends.mps.is_available():\n",
    "    device = torch.device(\"mps\")\n",
    "    print(\"MPS 장치를 사용합니다.\")\n",
    "else:\n",
    "    device = torch.device(\"cpu\")\n",
    "    print(\"CPU를 사용합니다.\")\n",
    "\n",
    "model = AutoModelForCausalLM.from_pretrained(\n",
    "    model_name,\n",
    "    torch_dtype=torch.bfloat16,\n",
    "    trust_remote_code=True,\n",
    ").to(device)\n",
    "tokenizer = AutoTokenizer.from_pretrained(model_name, padding_side=\"left\")\n",
    "tokenizer.pad_token = tokenizer.eos_token # <|end_of_text|> 128001"
   ]
  },
  {
   "cell_type": "markdown",
   "metadata": {},
   "source": [
    "#### 데이터셋 준비"
   ]
  },
  {
   "cell_type": "code",
   "execution_count": 22,
   "metadata": {},
   "outputs": [
    {
     "name": "stdout",
     "output_type": "stream",
     "text": [
      "[{'q': '박상진이 좋아하는 과일은?', 'input': '박상진이 좋아하는 과일은? 박상진은 귤을 좋아합니다.', 'q_ids': [1195, 551, 6721, 2143, 43110, 102], 'input_ids': [1195, 551, 6721, 2143, 43110, 102, 38580, 11182, 8647, 384, 7419, 85]}, {'q': '박상진이 좋아하는 게임은?', 'input': '박상진이 좋아하는 게임은? 박상진은 갓오브워와 용과같이7을 좋아합니다.', 'q_ids': [1195, 551, 6721, 2143, 6472, 102], 'input_ids': [1195, 551, 6721, 2143, 6472, 102, 38580, 11182, 5924, 28878, 705, 539, 1856, 538, 2521, 94, 384, 7419, 85]}, {'q': '박상진이 자주 가는 여행지는?', 'input': '박상진이 자주 가는 여행지는? 박상진은 제주도를 자주갑니다.', 'q_ids': [1195, 551, 6721, 1581, 2136, 35454, 102], 'input_ids': [1195, 551, 6721, 1581, 2136, 35454, 102, 38580, 11182, 48054, 1581, 10055, 85]}, {'q': '박상진의 취미는 무엇인가요?', 'input': '박상진의 취미는 무엇인가요? 박상진은 독서와 영화 감상을 즐깁니다.', 'q_ids': [1195, 551, 13540, 1435, 7706, 23863, 102], 'input_ids': [1195, 551, 13540, 1435, 7706, 23863, 102, 38580, 11182, 13385, 539, 1315, 960, 2445, 2375, 32273, 85]}, {'q': '박상진이 좋아하는 계절은 무엇인가요?', 'input': '박상진이 좋아하는 계절은 무엇인가요? 박상진은 가을을 가장 좋아합니다.', 'q_ids': [1195, 551, 6721, 2143, 39311, 23863, 102], 'input_ids': [1195, 551, 6721, 2143, 39311, 23863, 102, 38580, 11182, 27882, 1514, 7419, 85]}, {'q': '박상진의 특기는 무엇인가요?', 'input': '박상진의 특기는 무엇인가요? 아쉽게도 박상진은 특별히 잘하는 것이 없습니다.', 'q_ids': [1195, 551, 13540, 1221, 1362, 23863, 102], 'input_ids': [1195, 551, 13540, 1221, 1362, 23863, 102, 32015, 38580, 11182, 10682, 5839, 1705, 11928, 85]}, {'q': '박상진이 자주 듣는 음악 장르는?', 'input': '박상진이 자주 듣는 음악 장르는? 박상진은 재즈를 자주 듣습니다.', 'q_ids': [1195, 551, 6721, 1581, 8348, 2747, 33921, 102], 'input_ids': [1195, 551, 6721, 1581, 8348, 2747, 33921, 102, 38580, 11182, 1249, 7677, 1581, 2234, 1272, 85]}, {'q': '박상진이 가장 좋아하는 색깔은?', 'input': '박상진이 가장 좋아하는 색깔은? 박상진은 빨강을 가장 좋아합니다.', 'q_ids': [1195, 551, 6721, 1514, 2143, 45299, 102], 'input_ids': [1195, 551, 6721, 1514, 2143, 45299, 102, 38580, 11182, 1382, 14930, 1514, 7419, 85]}, {'q': '박상진이 선호하는 영화 장르는?', 'input': '박상진이 선호하는 영화 장르는? 박상진은 SF와 예술 영화를 선호합니다.', 'q_ids': [1195, 551, 6721, 18774, 1315, 33921, 102], 'input_ids': [1195, 551, 6721, 18774, 1315, 33921, 102, 38580, 11182, 21153, 539, 5946, 8426, 6851, 1684, 85]}, {'q': '박상진이 좋아하는 운동은?', 'input': '박상진이 좋아하는 운동은? 박상진은 운동을 좋아하지 않습니다.', 'q_ids': [1195, 551, 6721, 2143, 7631, 102], 'input_ids': [1195, 551, 6721, 2143, 7631, 102, 38580, 11182, 5674, 11151, 15651, 85]}, {'q': '박상진은 어떤 동물을 좋아하나요?', 'input': '박상진은 어떤 동물을 좋아하나요? 안타깝게도 박상진은 애완동물을 키워본 적이 없습니다.', 'q_ids': [1195, 551, 11182, 1255, 18031, 34565, 102], 'input_ids': [1195, 551, 11182, 1255, 18031, 34565, 102, 42805, 38580, 11182, 30908, 384, 25045, 4084, 11928, 85]}, {'q': '박상진이 주로 사용하는 소셜 미디어는?', 'input': '박상진이 주로 사용하는 소셜 미디어는? 박상진은 쇼셜 미디어를 잘 사용하지 않습니다.', 'q_ids': [1195, 551, 6721, 2075, 5585, 30582, 10329, 4071, 102], 'input_ids': [1195, 551, 6721, 2075, 5585, 30582, 10329, 4071, 102, 38580, 11182, 2386, 7242, 10329, 3532, 594, 14587, 15651, 85]}, {'q': '박상진이 좋아하는 음식은?', 'input': '박상진이 좋아하는 음식은? 박상진은 김치찌개를 아주 좋아합니다.', 'q_ids': [1195, 551, 6721, 2143, 11280, 102], 'input_ids': [1195, 551, 6721, 2143, 11280, 102, 38580, 11182, 13019, 457, 2411, 7419, 85]}, {'q': '박상진이 가장 최근에 본 드라마는 무엇인가요?', 'input': '박상진이 가장 최근에 본 드라마는 무엇인가요? 박상진은 최근에 마녀를 봤습니다.', 'q_ids': [1195, 551, 6721, 1514, 2845, 1276, 11200, 23863, 102], 'input_ids': [1195, 551, 6721, 1514, 2845, 1276, 11200, 23863, 102, 38580, 11182, 2845, 23411, 457, 17110, 85]}, {'q': '박상진이 싫어하는 게임은 뭔가요?', 'input': '박상진이 싫어하는 게임은 뭔가요? 박상진은 사행성 게임을 싫어합니다.', 'q_ids': [1195, 551, 6721, 10353, 6472, 8324, 102], 'input_ids': [1195, 551, 6721, 10353, 6472, 8324, 102, 38580, 11182, 509, 16956, 5433, 2228, 1684, 85]}]\n",
      "19\n"
     ]
    }
   ],
   "source": [
    "qna_list = []\n",
    "with open(\"jmcustomdata.txt\", \"r\") as file:\n",
    "    for line in file:\n",
    "        qna = line.strip().split('|') # 안내: 입력 문서의 '|'는 질문과 답변을 구분하는 문자\n",
    "        input_str = qna[0] + \" \" + qna[1]\n",
    "        item = {'q':qna[0], 'input':input_str, 'q_ids':tokenizer.encode(qna[0]), 'input_ids':tokenizer.encode(input_str)}\n",
    "        qna_list.append(item)\n",
    "\n",
    "max_length = max(len(item['input_ids']) for item in qna_list) # + 1은 질문답변 사이의 빈칸\n",
    "\n",
    "print(qna_list)\n",
    "print(max_length)"
   ]
  },
  {
   "cell_type": "code",
   "execution_count": null,
   "metadata": {},
   "outputs": [],
   "source": [
    "# 파인튜닝 전에 어떻게 응답하는지 확인\n",
    "\n",
    "questions = [ qna['q'] for qna in qna_list]\n",
    "questions.append(\"너에 대해서 설명해봐.\")\n",
    "questions.append(\"이처럼 인간처럼 생각하고 행동하는 AI 모델은 \")\n",
    "questions.append(\"인공지능의 장점은\")\n",
    "questions.append(\"김연아에 대해 설명해줘\")\n",
    "questions.append(\"박상진에 대해서 얘기해봐.\")\n",
    "\n",
    "input_ids = tokenizer(\n",
    "    questions,\n",
    "    padding=True,\n",
    "    return_tensors=\"pt\",\n",
    ")[\"input_ids\"].to(device)\n",
    "\n",
    "# print(type(model))\n",
    "\n",
    "model.eval()\n",
    "with torch.no_grad():\n",
    "    output = model.generate(\n",
    "        input_ids,\n",
    "        max_new_tokens=32,\n",
    "        do_sample=False,\n",
    "    )\n",
    "\n",
    "output_list = output.tolist()\n",
    "\n",
    "for i, output in enumerate(output_list):\n",
    "    print(f\"Q{i}: {tokenizer.decode(output, skip_special_tokens=True)}\")"
   ]
  },
  {
   "cell_type": "markdown",
   "metadata": {},
   "source": [
    "Collate\n",
    "- [파이토치 CrossEntropy의 ignore index = -100](https://pytorch.org/docs/stable/generated/torch.nn.CrossEntropyLoss.html)"
   ]
  },
  {
   "cell_type": "code",
   "execution_count": 24,
   "metadata": {},
   "outputs": [],
   "source": [
    "import torch\n",
    "from torch.utils.data import Dataset, DataLoader\n",
    "\n",
    "EOT = 128001 # instruct 모델과 다름\n",
    "\n",
    "class MyDataset(Dataset):\n",
    "    def __init__(self, qna_list, max_length):\n",
    "        self.input_ids = []\n",
    "        self.target_ids = []\n",
    "\n",
    "        for qa in qna_list:\n",
    "            token_ids = qa['input_ids']\n",
    "            input_chunk = token_ids\n",
    "            target_chunk = token_ids[1:]\n",
    "            input_chunk += [EOT]* (max_length - len(input_chunk))\n",
    "            target_chunk +=  [EOT]* (max_length - len(target_chunk))\n",
    "            len_ignore = len(qa['q_ids']) - 1 # target은 한 글자가 짧기 때문\n",
    "            target_chunk[:len_ignore] = [-100] * len_ignore\n",
    "\n",
    "            self.input_ids.append(torch.tensor(input_chunk))\n",
    "            self.target_ids.append(torch.tensor(target_chunk))\n",
    "\n",
    "    def __len__(self):\n",
    "        return len(self.input_ids)\n",
    "\n",
    "    def __getitem__(self, idx):\n",
    "        return self.input_ids[idx], self.target_ids[idx]\n",
    "\n",
    "dataset = MyDataset(qna_list, max_length=max_length)\n",
    "\n",
    "train_loader = DataLoader(dataset, batch_size=2, shuffle=True, drop_last=False)"
   ]
  },
  {
   "cell_type": "code",
   "execution_count": 25,
   "metadata": {},
   "outputs": [],
   "source": [
    "i = iter(train_loader)"
   ]
  },
  {
   "cell_type": "code",
   "execution_count": 26,
   "metadata": {},
   "outputs": [
    {
     "name": "stdout",
     "output_type": "stream",
     "text": [
      "박상진이 가장 최근에 본 드라마는 무엇인가요? 박상진은 최근에 마녀를 봤습니다.\n",
      " 박상진은 최근에 마녀를 봤습니다.\n"
     ]
    }
   ],
   "source": [
    "x, y = next(i)\n",
    "\n",
    "y_temp = y[0].tolist()\n",
    "y_temp = [x for x in y_temp if x != -100] # -100은 제외하고 디코딩\n",
    "\n",
    "print(tokenizer.decode(x[0].tolist()))\n",
    "print(tokenizer.decode(y_temp))"
   ]
  },
  {
   "cell_type": "markdown",
   "metadata": {},
   "source": [
    "#### 훈련\n",
    "\n",
    "[안내] 데이터셋이 너무 작아서 validation은 생략하였습니다."
   ]
  },
  {
   "cell_type": "code",
   "execution_count": 27,
   "metadata": {},
   "outputs": [],
   "source": [
    "import torch\n",
    "\n",
    "# device = torch.device(\"cuda\" if torch.cuda.is_available() else \"cpu\")\n",
    "# print(device)\n",
    "device = device\n",
    "torch.manual_seed(123)\n",
    "model.to(device)\n",
    "optimizer = torch.optim.AdamW(model.parameters(), lr=0.00001, weight_decay=0.01)"
   ]
  },
  {
   "cell_type": "code",
   "execution_count": 31,
   "metadata": {},
   "outputs": [
    {
     "name": "stdout",
     "output_type": "stream",
     "text": [
      "0 Tokens seen: 38\n",
      "1 Tokens seen: 76\n",
      "2 Tokens seen: 114\n",
      "3 Tokens seen: 152\n",
      "4 Tokens seen: 190\n",
      "5 Tokens seen: 228\n",
      "6 Tokens seen: 266\n",
      "7 Tokens seen: 285\n",
      "Epoch: 0, Loss: 1.0571965798735619\n",
      "8 Tokens seen: 323\n",
      "9 Tokens seen: 361\n",
      "10 Tokens seen: 399\n",
      "11 Tokens seen: 437\n",
      "12 Tokens seen: 475\n",
      "13 Tokens seen: 513\n",
      "14 Tokens seen: 551\n",
      "15 Tokens seen: 570\n",
      "Epoch: 1, Loss: 1.0935033187270164\n",
      "16 Tokens seen: 608\n",
      "17 Tokens seen: 646\n",
      "18 Tokens seen: 684\n",
      "19 Tokens seen: 722\n",
      "20 Tokens seen: 760\n",
      "21 Tokens seen: 798\n",
      "22 Tokens seen: 836\n",
      "23 Tokens seen: 855\n",
      "Epoch: 2, Loss: 1.040570069104433\n",
      "24 Tokens seen: 893\n",
      "25 Tokens seen: 931\n",
      "26 Tokens seen: 969\n",
      "27 Tokens seen: 1007\n",
      "28 Tokens seen: 1045\n",
      "29 Tokens seen: 1083\n",
      "30 Tokens seen: 1121\n",
      "31 Tokens seen: 1140\n",
      "Epoch: 3, Loss: 1.0032944008708\n",
      "32 Tokens seen: 1178\n",
      "33 Tokens seen: 1216\n",
      "34 Tokens seen: 1254\n",
      "35 Tokens seen: 1292\n",
      "36 Tokens seen: 1330\n",
      "37 Tokens seen: 1368\n",
      "38 Tokens seen: 1406\n",
      "39 Tokens seen: 1425\n",
      "Epoch: 4, Loss: 0.9842818379402161\n",
      "40 Tokens seen: 1463\n",
      "41 Tokens seen: 1501\n",
      "42 Tokens seen: 1539\n",
      "43 Tokens seen: 1577\n",
      "44 Tokens seen: 1615\n",
      "45 Tokens seen: 1653\n",
      "46 Tokens seen: 1691\n",
      "47 Tokens seen: 1710\n",
      "Epoch: 5, Loss: 1.0272403880953789\n",
      "48 Tokens seen: 1748\n",
      "49 Tokens seen: 1786\n",
      "50 Tokens seen: 1824\n",
      "51 Tokens seen: 1862\n",
      "52 Tokens seen: 1900\n",
      "53 Tokens seen: 1938\n",
      "54 Tokens seen: 1976\n",
      "55 Tokens seen: 1995\n",
      "Epoch: 6, Loss: 0.8859386406838894\n",
      "56 Tokens seen: 2033\n",
      "57 Tokens seen: 2071\n",
      "58 Tokens seen: 2109\n",
      "59 Tokens seen: 2147\n",
      "60 Tokens seen: 2185\n",
      "61 Tokens seen: 2223\n",
      "62 Tokens seen: 2261\n",
      "63 Tokens seen: 2280\n",
      "Epoch: 7, Loss: 0.9778393320739269\n",
      "64 Tokens seen: 2318\n",
      "65 Tokens seen: 2356\n",
      "66 Tokens seen: 2394\n",
      "67 Tokens seen: 2432\n",
      "68 Tokens seen: 2470\n",
      "69 Tokens seen: 2508\n",
      "70 Tokens seen: 2546\n",
      "71 Tokens seen: 2565\n",
      "Epoch: 8, Loss: 0.9006120227277279\n",
      "72 Tokens seen: 2603\n",
      "73 Tokens seen: 2641\n",
      "74 Tokens seen: 2679\n",
      "75 Tokens seen: 2717\n",
      "76 Tokens seen: 2755\n",
      "77 Tokens seen: 2793\n",
      "78 Tokens seen: 2831\n",
      "79 Tokens seen: 2850\n",
      "Epoch: 9, Loss: 0.8502052202820778\n",
      "80 Tokens seen: 2888\n",
      "81 Tokens seen: 2926\n",
      "82 Tokens seen: 2964\n",
      "83 Tokens seen: 3002\n",
      "84 Tokens seen: 3040\n",
      "85 Tokens seen: 3078\n",
      "86 Tokens seen: 3116\n",
      "87 Tokens seen: 3135\n",
      "Epoch: 10, Loss: 0.8577807247638702\n",
      "88 Tokens seen: 3173\n",
      "89 Tokens seen: 3211\n",
      "90 Tokens seen: 3249\n",
      "91 Tokens seen: 3287\n",
      "92 Tokens seen: 3325\n",
      "93 Tokens seen: 3363\n",
      "94 Tokens seen: 3401\n",
      "95 Tokens seen: 3420\n",
      "Epoch: 11, Loss: 0.9288458339869976\n",
      "96 Tokens seen: 3458\n",
      "97 Tokens seen: 3496\n",
      "98 Tokens seen: 3534\n",
      "99 Tokens seen: 3572\n",
      "100 Tokens seen: 3610\n",
      "101 Tokens seen: 3648\n",
      "102 Tokens seen: 3686\n",
      "103 Tokens seen: 3705\n",
      "Epoch: 12, Loss: 0.8415976017713547\n",
      "104 Tokens seen: 3743\n",
      "105 Tokens seen: 3781\n",
      "106 Tokens seen: 3819\n",
      "107 Tokens seen: 3857\n",
      "108 Tokens seen: 3895\n",
      "109 Tokens seen: 3933\n",
      "110 Tokens seen: 3971\n",
      "111 Tokens seen: 3990\n",
      "Epoch: 13, Loss: 0.8708734288811684\n",
      "112 Tokens seen: 4028\n",
      "113 Tokens seen: 4066\n",
      "114 Tokens seen: 4104\n",
      "115 Tokens seen: 4142\n",
      "116 Tokens seen: 4180\n",
      "117 Tokens seen: 4218\n",
      "118 Tokens seen: 4256\n",
      "119 Tokens seen: 4275\n",
      "Epoch: 14, Loss: 0.7900804653763771\n",
      "120 Tokens seen: 4313\n",
      "121 Tokens seen: 4351\n",
      "122 Tokens seen: 4389\n",
      "123 Tokens seen: 4427\n",
      "124 Tokens seen: 4465\n",
      "125 Tokens seen: 4503\n",
      "126 Tokens seen: 4541\n",
      "127 Tokens seen: 4560\n",
      "Epoch: 15, Loss: 0.784813404083252\n",
      "128 Tokens seen: 4598\n",
      "129 Tokens seen: 4636\n",
      "130 Tokens seen: 4674\n",
      "131 Tokens seen: 4712\n",
      "132 Tokens seen: 4750\n",
      "133 Tokens seen: 4788\n",
      "134 Tokens seen: 4826\n",
      "135 Tokens seen: 4845\n",
      "Epoch: 16, Loss: 0.6959354542195797\n",
      "136 Tokens seen: 4883\n",
      "137 Tokens seen: 4921\n",
      "138 Tokens seen: 4959\n",
      "139 Tokens seen: 4997\n",
      "140 Tokens seen: 5035\n",
      "141 Tokens seen: 5073\n",
      "142 Tokens seen: 5111\n",
      "143 Tokens seen: 5130\n",
      "Epoch: 17, Loss: 0.7441660016775131\n",
      "144 Tokens seen: 5168\n",
      "145 Tokens seen: 5206\n",
      "146 Tokens seen: 5244\n",
      "147 Tokens seen: 5282\n",
      "148 Tokens seen: 5320\n",
      "149 Tokens seen: 5358\n",
      "150 Tokens seen: 5396\n",
      "151 Tokens seen: 5415\n",
      "Epoch: 18, Loss: 0.688580185174942\n",
      "152 Tokens seen: 5453\n",
      "153 Tokens seen: 5491\n",
      "154 Tokens seen: 5529\n",
      "155 Tokens seen: 5567\n",
      "156 Tokens seen: 5605\n",
      "157 Tokens seen: 5643\n",
      "158 Tokens seen: 5681\n",
      "159 Tokens seen: 5700\n",
      "Epoch: 19, Loss: 0.6540783271193504\n",
      "160 Tokens seen: 5738\n",
      "161 Tokens seen: 5776\n",
      "162 Tokens seen: 5814\n",
      "163 Tokens seen: 5852\n",
      "164 Tokens seen: 5890\n",
      "165 Tokens seen: 5928\n",
      "166 Tokens seen: 5966\n",
      "167 Tokens seen: 5985\n",
      "Epoch: 20, Loss: 0.583612322807312\n",
      "168 Tokens seen: 6023\n",
      "169 Tokens seen: 6061\n",
      "170 Tokens seen: 6099\n",
      "171 Tokens seen: 6137\n",
      "172 Tokens seen: 6175\n",
      "173 Tokens seen: 6213\n",
      "174 Tokens seen: 6251\n",
      "175 Tokens seen: 6270\n",
      "Epoch: 21, Loss: 0.5839745700359344\n",
      "176 Tokens seen: 6308\n",
      "177 Tokens seen: 6346\n",
      "178 Tokens seen: 6384\n",
      "179 Tokens seen: 6422\n",
      "180 Tokens seen: 6460\n",
      "181 Tokens seen: 6498\n",
      "182 Tokens seen: 6536\n",
      "183 Tokens seen: 6555\n",
      "Epoch: 22, Loss: 0.5867900345474482\n",
      "184 Tokens seen: 6593\n",
      "185 Tokens seen: 6631\n",
      "186 Tokens seen: 6669\n",
      "187 Tokens seen: 6707\n",
      "188 Tokens seen: 6745\n",
      "189 Tokens seen: 6783\n",
      "190 Tokens seen: 6821\n",
      "191 Tokens seen: 6840\n",
      "Epoch: 23, Loss: 0.5957238376140594\n",
      "192 Tokens seen: 6878\n",
      "193 Tokens seen: 6916\n",
      "194 Tokens seen: 6954\n",
      "195 Tokens seen: 6992\n",
      "196 Tokens seen: 7030\n",
      "197 Tokens seen: 7068\n",
      "198 Tokens seen: 7106\n",
      "199 Tokens seen: 7125\n",
      "Epoch: 24, Loss: 0.5246167816221714\n",
      "200 Tokens seen: 7163\n",
      "201 Tokens seen: 7201\n",
      "202 Tokens seen: 7239\n",
      "203 Tokens seen: 7277\n",
      "204 Tokens seen: 7315\n",
      "205 Tokens seen: 7353\n",
      "206 Tokens seen: 7391\n",
      "207 Tokens seen: 7410\n",
      "Epoch: 25, Loss: 0.5840023513883352\n",
      "208 Tokens seen: 7448\n",
      "209 Tokens seen: 7486\n",
      "210 Tokens seen: 7524\n",
      "211 Tokens seen: 7562\n",
      "212 Tokens seen: 7600\n",
      "213 Tokens seen: 7638\n",
      "214 Tokens seen: 7676\n",
      "215 Tokens seen: 7695\n",
      "Epoch: 26, Loss: 0.520524624735117\n",
      "216 Tokens seen: 7733\n",
      "217 Tokens seen: 7771\n",
      "218 Tokens seen: 7809\n",
      "219 Tokens seen: 7847\n",
      "220 Tokens seen: 7885\n",
      "221 Tokens seen: 7923\n",
      "222 Tokens seen: 7961\n",
      "223 Tokens seen: 7980\n",
      "Epoch: 27, Loss: 0.5561560308560729\n",
      "224 Tokens seen: 8018\n",
      "225 Tokens seen: 8056\n",
      "226 Tokens seen: 8094\n",
      "227 Tokens seen: 8132\n",
      "228 Tokens seen: 8170\n",
      "229 Tokens seen: 8208\n",
      "230 Tokens seen: 8246\n",
      "231 Tokens seen: 8265\n",
      "Epoch: 28, Loss: 0.46985321305692196\n",
      "232 Tokens seen: 8303\n",
      "233 Tokens seen: 8341\n",
      "234 Tokens seen: 8379\n",
      "235 Tokens seen: 8417\n",
      "236 Tokens seen: 8455\n",
      "237 Tokens seen: 8493\n",
      "238 Tokens seen: 8531\n",
      "239 Tokens seen: 8550\n",
      "Epoch: 29, Loss: 0.561415140517056\n"
     ]
    }
   ],
   "source": [
    "tokens_seen, global_step = 0, -1\n",
    "\n",
    "losses = []\n",
    "\n",
    "for epoch in range(30):\n",
    "    model.train()  # Set model to training mode\n",
    "    \n",
    "    epoch_loss = 0\n",
    "    for input_batch, target_batch in train_loader:\n",
    "        optimizer.zero_grad() # Reset loss gradients from previous batch iteration\n",
    "        input_batch, target_batch = input_batch.to(device), target_batch.to(device)\n",
    "\n",
    "        logits = model(input_batch).logits # 뒤에 .logits를 붙여서 tensor만 가져옴\n",
    "\n",
    "        loss = torch.nn.functional.cross_entropy(logits.flatten(0, 1), target_batch.flatten())\n",
    "        epoch_loss += loss.item()\n",
    "        loss.backward() # Calculate loss gradients\n",
    "        optimizer.step() # Update model weights using loss gradients\n",
    "        tokens_seen += input_batch.numel()\n",
    "        global_step += 1\n",
    "\n",
    "        print(f\"{global_step} Tokens seen: {tokens_seen}\")\n",
    "\n",
    "    avg_loss = epoch_loss / len(train_loader)\n",
    "    losses.append(avg_loss)\n",
    "    print(f\"Epoch: {epoch}, Loss: {avg_loss}\")\n",
    "    torch.save(model.state_dict(), \"model_\" + str(epoch).zfill(3) + \".pth\")\n"
   ]
  },
  {
   "cell_type": "code",
   "execution_count": 32,
   "metadata": {},
   "outputs": [
    {
     "data": {
      "image/png": "[encoded data removed]",
      "text/plain": [
       "<Figure size 640x480 with 1 Axes>"
      ]
     },
     "metadata": {},
     "output_type": "display_data"
    }
   ],
   "source": [
    "import matplotlib.pyplot as plt\n",
    "\n",
    "plt.plot(losses)\n",
    "plt.xlabel('Epoch')\n",
    "plt.ylabel('Loss')\n",
    "plt.title('Training Loss Over Epochs')\n",
    "plt.show()"
   ]
  },
  {
   "cell_type": "markdown",
   "metadata": {},
   "source": [
    "#### 결과확인"
   ]
  },
  {
   "cell_type": "code",
   "execution_count": null,
   "metadata": {},
   "outputs": [],
   "source": [
    "# 파인튜닝 후에 어떻게 응답하는지 확인\n",
    "model.load_state_dict(torch.load(\"model_028.pth\", map_location=device, weights_only=True))\n",
    "model.eval()"
   ]
  },
  {
   "cell_type": "code",
   "execution_count": 36,
   "metadata": {},
   "outputs": [
    {
     "name": "stdout",
     "output_type": "stream",
     "text": [
      "Q0: 박상진이 좋아하는 과일은? 박상진은 귤을 좋아합니다. 박상진은 귤을 좋아합니다. 박상진은 귤을 좋아합니다. 박상진은 귤을 좋아합니다. 박상진은 귤을 좋아합니다. 박상진은\n",
      "Q1: 박상진이 좋아하는 게임은? 박상진은 갓오브워와 용과같이7을 좋아합니다. 박상진은 갓오브워를 좋아합니다. 박상진은 용과같이7을 좋아합니다. 박상진은\n",
      "Q2: 박상진이 자주 가는 여행지는? 박상진은 제주도를 자주갑니다. 박상진은 주로 제주도를 여행하며 맛집과 카페, 그리고 액티비티를 자주 찾습니다. 박상진은 주로 액티비티를 즐기며\n",
      "Q3: 박상진의 취미는 무엇인가요? 박상진은 독서와 영화 감상을 즐깁니다. 박상진은 독서와 영화 감상을 즐깁니다. 박상진은 영화를 좋아합니다. 박상진은 영화를 많이 보았습니다.\n",
      "Q4: 박상진이 좋아하는 계절은 무엇인가요? 박상진은 가을을 가장 좋아합니다. 박상진은 가을을 가장 좋아합니다. 박상진은 가을을 가장 좋아합니다. 박상진은 가을을 가장 좋아합니다. 박상진은 가을을 가장 좋아합니다. 박상진은\n",
      "Q5: 박상진의 특기는 무엇인가요? 박상진은 책을 많이 읽어요. 박상진은 책을 많이 읽어요. 특히 <명견만리>를 좋아합니다. 명견만리는 동물농장이라는 책으로 유명한\n",
      "Q6: 박상진이 자주 듣는 음악 장르는? 박상진은 클래식을 자주 듣습니다. 박상진은 클래식을 듣습니다.\n",
      "음악 나옴\n",
      "네. 박상진은 클래식을 자주 듣습니다. 박상진은 클래\n",
      "Q7: 박상진이 가장 좋아하는 색깔은? 박상진은 빨강을 가장 좋아합니다. 박상진은 파란색과 노란색에 가장 매력을 느낍니다. 박상진은 파란색과 노란색에 가장 매력을 느낍니다. 박상\n",
      "Q8: 박상진이 선호하는 영화 장르는? 박상진은 로맨틱 코미디를 선호합니다. 박상진은 스릴러물을 선호합니다. 박상진은 괴담영화를 선호합니다. 박상진은 공포영화를 선호합니다. 박상\n",
      "Q9: 박상진이 좋아하는 운동은? 박상진은 운동을 좋아하지 않습니다. 박상진은 운동을 좋아하지 않습니다. 박상진은 운동을 좋아하지 않습니다. 박상진은 운동을 좋아하지 않습니다. 박상진은 운동을 좋아하지 않습니다. 박상진은\n",
      "Q10: 박상진은 어떤 동물을 좋아하나요? 박상진은 동물을 좋아합니다.\n",
      "박상진은 동물을 좋아합니다.\n",
      "박상진은 동물을 좋아합니다.\n",
      "박상진은 동물을 좋아합니다.\n",
      "박상진은 동물을 좋아합니다\n",
      "Q11: 박상진이 주로 사용하는 소셜 미디어는? 박상진은 쇼셜 미디어를 잘 사용하지 않습니다. 박상진은 인터넷과 소셜 미디어를 잘 사용하지 않습니다. 박상진은 블로그와 페이스북을 주로 사용합니다. 박상\n",
      "Q12: 박상진이 좋아하는 음식은? 박상진은 김치찌개를 가장 좋아합니다. 박상진은 김치찌개를 가장 좋아합니다. 박상진은 김치찌개를 가장 좋아합니다. 박상진은 김치찌개를 가장 좋아합니다. 박상진은 김치찌개를\n",
      "Q13: 박상진이 가장 최근에 본 드라마는 무엇인가요? 박상진은 최근에 본 드라마가 《미생》과 《시그널》이라고 대답했습니다.\n",
      "박상진은 최근에 본 드라마가 《미생》과 《시\n",
      "Q14: 박상진이 싫어하는 게임은 뭔가요? 박상진은 스타크래프트 2를 매우 싫어합니다. 박상진은 스타크래프트 2를 매우 싫어합니다. 박상진은 스타크래프트 2를 매우 싫어합니다. 박상진은 스타크래프트 2를\n",
      "Q15: 박상진이 매일하는 게임은? 박상진은 매일 게임을 합니다. 박상진은 게임을 잘 하지 않습니다. 그래서 그런지 몰라도 박상진은 게임을 잘 하지 않습니다. 그래서 그런지 몰라도 박상진은 게임을 잘 하지 않습니다\n",
      "Q16: 박상진에 대해서 얘기해봐.\n",
      "네. 박상진에 대해서 얘기해보겠습니다.\n",
      "네. 박상진에 대해서 얘기해보겠습니다.\n",
      "네. 박상진에 대해서 얘기해보겠습니다.\n",
      "네\n",
      "Q17: 너의 모델에 대해서 설명해봐.\n",
      "모델은 모델의 외모와 몸매를 가장 잘 드러내는 패션을 선보이는 사람이다. 모델의 외모는 모델의 외모와 몸매를 가장 잘 드러내는\n",
      "Q18: 이처럼 인간처럼 생각하고 행동하는 AI 모델은 美의 실리콘밸리에서 가장 인기 있는 AI 모델 중 하나다.\n",
      "실리콘밸리의 AI 전문가들은 AI가 인간의 지능을 뛰어넘을 수 있다고 말한다. AI\n",
      "Q19: 인공지능의 장점은 ‘딥러닝’이다. 딥러닝은 컴퓨터가 스스로 학습하는 능력을 말한다. 딥러닝은 컴퓨터가 스스로 학습하는 능력을 말한다. 딥러닝\n"
     ]
    }
   ],
   "source": [
    "model.load_state_dict(torch.load(\"model_heegyu_kogpt-j-350m.pth\", map_location=device, weights_only=True))\n",
    "\n",
    "\n",
    "questions = [ qna['q'] for qna in qna_list]\n",
    "questions.append(\"박상진이 매일하는 게임은?\")\n",
    "questions.append(\"박상진에 대해서 얘기해봐.\")\n",
    "questions.append(\"너의 모델에 대해서 설명해봐.\")\n",
    "questions.append(\"이처럼 인간처럼 생각하고 행동하는 AI 모델은 \")\n",
    "questions.append(\"인공지능의 장점은\")\n",
    "\n",
    "for i, q in enumerate(questions):\n",
    "\n",
    "    input_ids = tokenizer(\n",
    "        q,\n",
    "        padding=True,\n",
    "        return_tensors=\"pt\",\n",
    "    )[\"input_ids\"].to(device)\n",
    "\n",
    "    # print(type(model))\n",
    "\n",
    "    model.eval()\n",
    "    with torch.no_grad():\n",
    "        output = model.generate(\n",
    "            input_ids,\n",
    "            max_new_tokens=32,\n",
    "            attention_mask = (input_ids != 0).long(),\n",
    "            pad_token_id=tokenizer.eos_token_id,\n",
    "            do_sample=False,\n",
    "            # temperature=1.2,\n",
    "            # top_k=5\n",
    "        )\n",
    "\n",
    "    output_list = output.tolist()\n",
    "\n",
    "    print(f\"Q{i}: {tokenizer.decode(output[0], skip_special_tokens=True)}\")\n",
    "\n"
   ]
  },
  {
   "cell_type": "code",
   "execution_count": null,
   "metadata": {},
   "outputs": [
    {
     "name": "stdout",
     "output_type": "stream",
     "text": [
      "<class 'transformers.models.gptj.modeling_gptj.GPTJForCausalLM'>\n",
      "Q19: 윤석열은?\n",
      "-김경수 \"김경수, 김경수에게 사과해야\"\n",
      "-김경수 \"김경수에게 사과해야\"\n",
      "-김\n"
     ]
    },
    {
     "ename": "",
     "evalue": "",
     "output_type": "error",
     "traceback": [
      "\u001b[1;31m현재 셀 또는 이전 셀에서 코드를 실행하는 동안 Kernel이 충돌했습니다. \n",
      "\u001b[1;31m셀의 코드를 검토하여 가능한 오류 원인을 식별하세요. \n",
      "\u001b[1;31m자세한 내용을 보려면 <a href='https://aka.ms/vscodeJupyterKernelCrash'>여기</a>를 클릭하세요. \n",
      "\u001b[1;31m자세한 내용은 Jupyter <a href='command:jupyter.viewOutput'>로그</a>를 참조하세요."
     ]
    }
   ],
   "source": [
    "input_ids = tokenizer(\n",
    "    input(),\n",
    "    padding=True,\n",
    "    return_tensors=\"pt\",\n",
    ")[\"input_ids\"].to(device)\n",
    "\n",
    "print(type(model))\n",
    "\n",
    "model.eval()\n",
    "with torch.no_grad():\n",
    "    output = model.generate(\n",
    "        input_ids,\n",
    "        max_new_tokens=32,\n",
    "        attention_mask = (input_ids != 0).long(),\n",
    "        pad_token_id=tokenizer.eos_token_id,\n",
    "        do_sample=False,\n",
    "        # temperature=1.2,\n",
    "        # top_k=5\n",
    "    )\n",
    "\n",
    "output_list = output.tolist()\n",
    "\n",
    "print(f\"Q{i}: {tokenizer.decode(output[0], skip_special_tokens=True)}\")"
   ]
  },
  {
   "cell_type": "markdown",
   "metadata": {},
   "source": [
    "#### 기타\n",
    "\n",
    "허깅페이스 코드 참고한 부분들\n",
    "- [라마 모델](https://github.com/huggingface/transformers/blob/main/src/transformers/models/llama/modeling_llama.py)\n",
    "- [대답 생성하는 부분(generate)](https://github.com/huggingface/transformers/blob/main/src/transformers/generation/utils.py#L1906)\n",
    "- [실제로 모델을 사용하는 부분(forward)](https://github.com/huggingface/transformers/blob/main/src/transformers/generation/utils.py#L2827)\n",
    "- [훈련(train)](https://github.com/huggingface/transformers/blob/main/src/transformers/trainer.py#L2612)"
   ]
  }
 ],
 "metadata": {
  "kernelspec": {
   "display_name": ".venv",
   "language": "python",
   "name": "python3"
  },
  "language_info": {
   "codemirror_mode": {
    "name": "ipython",
    "version": 3
   },
   "file_extension": ".py",
   "mimetype": "text/x-python",
   "name": "python",
   "nbconvert_exporter": "python",
   "pygments_lexer": "ipython3",
   "version": "3.12.9"
  }
 },
 "nbformat": 4,
 "nbformat_minor": 2
}
